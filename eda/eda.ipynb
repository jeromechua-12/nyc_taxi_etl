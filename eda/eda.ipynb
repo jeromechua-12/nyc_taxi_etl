{
 "cells": [
  {
   "cell_type": "code",
   "execution_count": 1,
   "id": "6efff73c",
   "metadata": {},
   "outputs": [
    {
     "name": "stdout",
     "output_type": "stream",
     "text": [
      "Requirement already satisfied: requests==2.32.4 in /Users/jeromechua/projects/nyc_taxi_etl/.venv/lib/python3.13/site-packages (from -r ../requirements.txt (line 1)) (2.32.4)\n",
      "Requirement already satisfied: pyspark==4.0.0 in /Users/jeromechua/projects/nyc_taxi_etl/.venv/lib/python3.13/site-packages (from -r ../requirements.txt (line 2)) (4.0.0)\n",
      "Requirement already satisfied: charset_normalizer<4,>=2 in /Users/jeromechua/projects/nyc_taxi_etl/.venv/lib/python3.13/site-packages (from requests==2.32.4->-r ../requirements.txt (line 1)) (3.4.2)\n",
      "Requirement already satisfied: idna<4,>=2.5 in /Users/jeromechua/projects/nyc_taxi_etl/.venv/lib/python3.13/site-packages (from requests==2.32.4->-r ../requirements.txt (line 1)) (3.10)\n",
      "Requirement already satisfied: urllib3<3,>=1.21.1 in /Users/jeromechua/projects/nyc_taxi_etl/.venv/lib/python3.13/site-packages (from requests==2.32.4->-r ../requirements.txt (line 1)) (2.5.0)\n",
      "Requirement already satisfied: certifi>=2017.4.17 in /Users/jeromechua/projects/nyc_taxi_etl/.venv/lib/python3.13/site-packages (from requests==2.32.4->-r ../requirements.txt (line 1)) (2025.6.15)\n",
      "Requirement already satisfied: py4j==0.10.9.9 in /Users/jeromechua/projects/nyc_taxi_etl/.venv/lib/python3.13/site-packages (from pyspark==4.0.0->-r ../requirements.txt (line 2)) (0.10.9.9)\n",
      "Note: you may need to restart the kernel to use updated packages.\n"
     ]
    }
   ],
   "source": [
    "%pip install -r \"../requirements.txt\""
   ]
  },
  {
   "cell_type": "code",
   "execution_count": 2,
   "id": "04d8b731",
   "metadata": {},
   "outputs": [],
   "source": [
    "from pyspark.sql import SparkSession\n",
    "from pathlib import Path"
   ]
  },
  {
   "cell_type": "code",
   "execution_count": 3,
   "id": "1d234eb9",
   "metadata": {},
   "outputs": [],
   "source": [
    "# get data file\n",
    "data_file = \"../data/yellow_tripdata_2024-01.parquet\""
   ]
  },
  {
   "cell_type": "code",
   "execution_count": 4,
   "id": "197dc805",
   "metadata": {},
   "outputs": [
    {
     "name": "stderr",
     "output_type": "stream",
     "text": [
      "WARNING: Using incubator modules: jdk.incubator.vector\n",
      "Using Spark's default log4j profile: org/apache/spark/log4j2-defaults.properties\n",
      "Setting default log level to \"WARN\".\n",
      "To adjust logging level use sc.setLogLevel(newLevel). For SparkR, use setLogLevel(newLevel).\n",
      "25/06/24 12:12:41 WARN NativeCodeLoader: Unable to load native-hadoop library for your platform... using builtin-java classes where applicable\n",
      "25/06/24 12:12:42 WARN Utils: Service 'SparkUI' could not bind on port 4040. Attempting port 4041.\n"
     ]
    }
   ],
   "source": [
    "spark = SparkSession.builder\\\n",
    "    .appName(\"nyc_taxi_etl\")\\\n",
    "    .getOrCreate()\n",
    "\n",
    "df = spark.read.parquet(data_file, header=True, inferSchema=True)"
   ]
  },
  {
   "cell_type": "markdown",
   "id": "081360e7",
   "metadata": {},
   "source": [
    "## Description of dataframe"
   ]
  },
  {
   "cell_type": "markdown",
   "id": "a6b7e2dc",
   "metadata": {},
   "source": [
    "### Dataframe shape"
   ]
  },
  {
   "cell_type": "code",
   "execution_count": 5,
   "id": "d0d37290",
   "metadata": {},
   "outputs": [
    {
     "name": "stdout",
     "output_type": "stream",
     "text": [
      "Number of rows: 2964624\n",
      "Number of columns: 19\n"
     ]
    }
   ],
   "source": [
    "print(f\"Number of rows: {df.count()}\")\n",
    "print(f\"Number of columns: {len(df.columns)}\")"
   ]
  },
  {
   "cell_type": "markdown",
   "id": "2ba25866",
   "metadata": {},
   "source": [
    "### Dataframe schema"
   ]
  },
  {
   "cell_type": "code",
   "execution_count": 6,
   "id": "5a7f8e05",
   "metadata": {},
   "outputs": [
    {
     "name": "stdout",
     "output_type": "stream",
     "text": [
      "root\n",
      " |-- VendorID: integer (nullable = true)\n",
      " |-- tpep_pickup_datetime: timestamp_ntz (nullable = true)\n",
      " |-- tpep_dropoff_datetime: timestamp_ntz (nullable = true)\n",
      " |-- passenger_count: long (nullable = true)\n",
      " |-- trip_distance: double (nullable = true)\n",
      " |-- RatecodeID: long (nullable = true)\n",
      " |-- store_and_fwd_flag: string (nullable = true)\n",
      " |-- PULocationID: integer (nullable = true)\n",
      " |-- DOLocationID: integer (nullable = true)\n",
      " |-- payment_type: long (nullable = true)\n",
      " |-- fare_amount: double (nullable = true)\n",
      " |-- extra: double (nullable = true)\n",
      " |-- mta_tax: double (nullable = true)\n",
      " |-- tip_amount: double (nullable = true)\n",
      " |-- tolls_amount: double (nullable = true)\n",
      " |-- improvement_surcharge: double (nullable = true)\n",
      " |-- total_amount: double (nullable = true)\n",
      " |-- congestion_surcharge: double (nullable = true)\n",
      " |-- Airport_fee: double (nullable = true)\n",
      "\n"
     ]
    }
   ],
   "source": [
    "df.printSchema()"
   ]
  },
  {
   "cell_type": "markdown",
   "id": "f3eb4cd3",
   "metadata": {},
   "source": [
    "### Glimpse of dataframe"
   ]
  },
  {
   "cell_type": "code",
   "execution_count": 7,
   "id": "ff52772e",
   "metadata": {},
   "outputs": [
    {
     "name": "stdout",
     "output_type": "stream",
     "text": [
      "+--------+--------------------+---------------------+---------------+-------------+----------+------------------+------------+------------+------------+-----------+-----+-------+----------+------------+---------------------+------------+--------------------+-----------+\n",
      "|VendorID|tpep_pickup_datetime|tpep_dropoff_datetime|passenger_count|trip_distance|RatecodeID|store_and_fwd_flag|PULocationID|DOLocationID|payment_type|fare_amount|extra|mta_tax|tip_amount|tolls_amount|improvement_surcharge|total_amount|congestion_surcharge|Airport_fee|\n",
      "+--------+--------------------+---------------------+---------------+-------------+----------+------------------+------------+------------+------------+-----------+-----+-------+----------+------------+---------------------+------------+--------------------+-----------+\n",
      "|       2| 2024-01-01 00:57:55|  2024-01-01 01:17:43|              1|         1.72|         1|                 N|         186|          79|           2|       17.7|  1.0|    0.5|       0.0|         0.0|                  1.0|        22.7|                 2.5|        0.0|\n",
      "|       1| 2024-01-01 00:03:00|  2024-01-01 00:09:36|              1|          1.8|         1|                 N|         140|         236|           1|       10.0|  3.5|    0.5|      3.75|         0.0|                  1.0|       18.75|                 2.5|        0.0|\n",
      "|       1| 2024-01-01 00:17:06|  2024-01-01 00:35:01|              1|          4.7|         1|                 N|         236|          79|           1|       23.3|  3.5|    0.5|       3.0|         0.0|                  1.0|        31.3|                 2.5|        0.0|\n",
      "|       1| 2024-01-01 00:36:38|  2024-01-01 00:44:56|              1|          1.4|         1|                 N|          79|         211|           1|       10.0|  3.5|    0.5|       2.0|         0.0|                  1.0|        17.0|                 2.5|        0.0|\n",
      "|       1| 2024-01-01 00:46:51|  2024-01-01 00:52:57|              1|          0.8|         1|                 N|         211|         148|           1|        7.9|  3.5|    0.5|       3.2|         0.0|                  1.0|        16.1|                 2.5|        0.0|\n",
      "|       1| 2024-01-01 00:54:08|  2024-01-01 01:26:31|              1|          4.7|         1|                 N|         148|         141|           1|       29.6|  3.5|    0.5|       6.9|         0.0|                  1.0|        41.5|                 2.5|        0.0|\n",
      "|       2| 2024-01-01 00:49:44|  2024-01-01 01:15:47|              2|        10.82|         1|                 N|         138|         181|           1|       45.7|  6.0|    0.5|      10.0|         0.0|                  1.0|       64.95|                 0.0|       1.75|\n",
      "|       1| 2024-01-01 00:30:40|  2024-01-01 00:58:40|              0|          3.0|         1|                 N|         246|         231|           2|       25.4|  3.5|    0.5|       0.0|         0.0|                  1.0|        30.4|                 2.5|        0.0|\n",
      "|       2| 2024-01-01 00:26:01|  2024-01-01 00:54:12|              1|         5.44|         1|                 N|         161|         261|           2|       31.0|  1.0|    0.5|       0.0|         0.0|                  1.0|        36.0|                 2.5|        0.0|\n",
      "|       2| 2024-01-01 00:28:08|  2024-01-01 00:29:16|              1|         0.04|         1|                 N|         113|         113|           2|        3.0|  1.0|    0.5|       0.0|         0.0|                  1.0|         8.0|                 2.5|        0.0|\n",
      "|       2| 2024-01-01 00:35:22|  2024-01-01 00:41:41|              2|         0.75|         1|                 N|         107|         137|           1|        7.9|  1.0|    0.5|       0.0|         0.0|                  1.0|        12.9|                 2.5|        0.0|\n",
      "|       1| 2024-01-01 00:25:00|  2024-01-01 00:34:03|              2|          1.2|         1|                 N|         158|         246|           1|       14.9|  3.5|    0.5|      3.95|         0.0|                  1.0|       23.85|                 2.5|        0.0|\n",
      "|       1| 2024-01-01 00:35:16|  2024-01-01 01:11:52|              2|          8.2|         1|                 N|         246|         190|           1|       59.0|  3.5|    0.5|     14.15|        6.94|                  1.0|       85.09|                 2.5|        0.0|\n",
      "|       1| 2024-01-01 00:43:27|  2024-01-01 00:47:11|              2|          0.4|         1|                 N|          68|          90|           1|        5.8|  3.5|    0.5|      1.25|         0.0|                  1.0|       12.05|                 2.5|        0.0|\n",
      "|       1| 2024-01-01 00:51:53|  2024-01-01 00:55:43|              1|          0.8|         1|                 N|          90|          68|           2|        6.5|  3.5|    0.5|       0.0|         0.0|                  1.0|        11.5|                 2.5|        0.0|\n",
      "|       1| 2024-01-01 00:50:09|  2024-01-01 01:03:57|              1|          5.0|         1|                 N|         132|         216|           2|       21.2| 2.75|    0.5|       0.0|         0.0|                  1.0|       25.45|                 0.0|       1.75|\n",
      "|       1| 2024-01-01 00:41:06|  2024-01-01 00:53:42|              1|          1.5|         1|                 N|         164|          79|           1|       12.8|  3.5|    0.5|      4.45|         0.0|                  1.0|       22.25|                 2.5|        0.0|\n",
      "|       2| 2024-01-01 00:52:09|  2024-01-01 00:52:28|              1|          0.0|         1|                 N|         237|         237|           2|        3.0|  1.0|    0.5|       0.0|         0.0|                  1.0|         8.0|                 2.5|        0.0|\n",
      "|       2| 2024-01-01 00:56:38|  2024-01-01 01:03:17|              1|          1.5|         1|                 N|         141|         263|           1|        9.3|  1.0|    0.5|       3.0|         0.0|                  1.0|        17.3|                 2.5|        0.0|\n",
      "|       2| 2024-01-01 00:32:34|  2024-01-01 00:49:33|              1|         2.57|         1|                 N|         161|         263|           1|       17.7|  1.0|    0.5|      10.0|         0.0|                  1.0|        32.7|                 2.5|        0.0|\n",
      "+--------+--------------------+---------------------+---------------+-------------+----------+------------------+------------+------------+------------+-----------+-----+-------+----------+------------+---------------------+------------+--------------------+-----------+\n",
      "only showing top 20 rows\n"
     ]
    }
   ],
   "source": [
    "df.show()"
   ]
  },
  {
   "cell_type": "markdown",
   "id": "e2227530",
   "metadata": {},
   "source": [
    "## Dataframe summary"
   ]
  },
  {
   "cell_type": "code",
   "execution_count": 8,
   "id": "cf4e37ea",
   "metadata": {},
   "outputs": [
    {
     "name": "stderr",
     "output_type": "stream",
     "text": [
      "25/06/24 12:12:45 WARN SparkStringUtils: Truncated the string representation of a plan since it was too large. This behavior can be adjusted by setting 'spark.sql.debug.maxToStringFields'.\n",
      "[Stage 6:============================================>              (6 + 2) / 8]\r"
     ]
    },
    {
     "name": "stdout",
     "output_type": "stream",
     "text": [
      "+-------+------------------+------------------+------------------+-----------------+------------------+------------------+------------------+------------------+------------------+------------------+-------------------+------------------+------------------+---------------------+------------------+--------------------+-------------------+\n",
      "|summary|          VendorID|   passenger_count|     trip_distance|       RatecodeID|store_and_fwd_flag|      PULocationID|      DOLocationID|      payment_type|       fare_amount|             extra|            mta_tax|        tip_amount|      tolls_amount|improvement_surcharge|      total_amount|congestion_surcharge|        Airport_fee|\n",
      "+-------+------------------+------------------+------------------+-----------------+------------------+------------------+------------------+------------------+------------------+------------------+-------------------+------------------+------------------+---------------------+------------------+--------------------+-------------------+\n",
      "|  count|           2964624|           2824462|           2964624|          2824462|           2824462|           2964624|           2964624|           2964624|           2964624|           2964624|            2964624|           2964624|           2964624|              2964624|           2964624|             2824462|            2824462|\n",
      "|   mean|1.7542042431013174|1.3392808966805005|3.6521691789583146|2.069359403666964|              NULL|166.01788354948215|165.11671227110082|1.1612707041432573|18.175061916791037|1.4515984320439959| 0.4833823108765226|3.3358700158940002|0.5270212040378977|   0.9756318507844561|26.801504770952707|  2.2561220508542865|  0.141161130863152|\n",
      "| stddev|0.4325902017036028|0.8502816924800847|225.46257238220082|9.823218952795623|              NULL| 63.62391448741358| 69.31534978524938|0.5808685566109485| 18.94954770590526|1.8041024767538902|0.11776003015379852| 3.896550599806763|2.1283096763989056|  0.21836445772742988|23.385577429672516|  0.8232746699398348|0.48762388723928013|\n",
      "|    min|                 1|                 0|               0.0|                1|                 N|                 1|                 1|                 0|            -899.0|              -7.5|               -0.5|             -80.0|             -80.0|                 -1.0|            -900.0|                -2.5|              -1.75|\n",
      "|    max|                 6|                 9|          312722.3|               99|                 Y|               265|               265|                 4|            5000.0|             14.25|                4.0|             428.0|            115.92|                  1.0|            5000.0|                 2.5|               1.75|\n",
      "+-------+------------------+------------------+------------------+-----------------+------------------+------------------+------------------+------------------+------------------+------------------+-------------------+------------------+------------------+---------------------+------------------+--------------------+-------------------+\n",
      "\n"
     ]
    },
    {
     "name": "stderr",
     "output_type": "stream",
     "text": [
      "                                                                                \r"
     ]
    }
   ],
   "source": [
    "df.describe().show()"
   ]
  },
  {
   "cell_type": "markdown",
   "id": "ce7432d3",
   "metadata": {},
   "source": [
    "## Check for duplicates"
   ]
  },
  {
   "cell_type": "code",
   "execution_count": 9,
   "id": "2a9da1f9",
   "metadata": {},
   "outputs": [
    {
     "name": "stderr",
     "output_type": "stream",
     "text": [
      "                                                                                \r"
     ]
    },
    {
     "name": "stdout",
     "output_type": "stream",
     "text": [
      "+--------+--------------------+---------------------+---------------+-------------+----------+------------------+------------+------------+------------+-----------+-----+-------+----------+------------+---------------------+------------+--------------------+-----------+-----+\n",
      "|VendorID|tpep_pickup_datetime|tpep_dropoff_datetime|passenger_count|trip_distance|RatecodeID|store_and_fwd_flag|PULocationID|DOLocationID|payment_type|fare_amount|extra|mta_tax|tip_amount|tolls_amount|improvement_surcharge|total_amount|congestion_surcharge|Airport_fee|count|\n",
      "+--------+--------------------+---------------------+---------------+-------------+----------+------------------+------------+------------+------------+-----------+-----+-------+----------+------------+---------------------+------------+--------------------+-----------+-----+\n",
      "+--------+--------------------+---------------------+---------------+-------------+----------+------------------+------------+------------+------------+-----------+-----+-------+----------+------------+---------------------+------------+--------------------+-----------+-----+\n",
      "\n"
     ]
    }
   ],
   "source": [
    "df.groupBy(df.columns)\\\n",
    "  .count()\\\n",
    "  .filter(\"count > 1\")\\\n",
    "  .show()"
   ]
  },
  {
   "cell_type": "markdown",
   "id": "d75524fa",
   "metadata": {},
   "source": [
    "No duplicates rows."
   ]
  },
  {
   "cell_type": "markdown",
   "id": "724ac591",
   "metadata": {},
   "source": [
    "## Check for NA values"
   ]
  },
  {
   "cell_type": "code",
   "execution_count": 10,
   "id": "265e75bb",
   "metadata": {},
   "outputs": [
    {
     "name": "stdout",
     "output_type": "stream",
     "text": [
      "-RECORD 0-----------------------\n",
      " VendorID              | 0      \n",
      " tpep_pickup_datetime  | 0      \n",
      " tpep_dropoff_datetime | 0      \n",
      " passenger_count       | 140162 \n",
      " trip_distance         | 0      \n",
      " RatecodeID            | 140162 \n",
      " store_and_fwd_flag    | 140162 \n",
      " PULocationID          | 0      \n",
      " DOLocationID          | 0      \n",
      " payment_type          | 0      \n",
      " fare_amount           | 0      \n",
      " extra                 | 0      \n",
      " mta_tax               | 0      \n",
      " tip_amount            | 0      \n",
      " tolls_amount          | 0      \n",
      " improvement_surcharge | 0      \n",
      " total_amount          | 0      \n",
      " congestion_surcharge  | 140162 \n",
      " Airport_fee           | 140162 \n",
      "\n"
     ]
    }
   ],
   "source": [
    "from pyspark.sql.functions import col, when, sum as _sum\n",
    "\n",
    "df.select([\n",
    "    _sum(when(col(c).isNull(), 1).otherwise(0)).alias(c)\n",
    "    for c in df.columns\n",
    "]).show(vertical=True)"
   ]
  },
  {
   "cell_type": "markdown",
   "id": "65e3611e",
   "metadata": {},
   "source": [
    "### Check if the nulls values are from the same row"
   ]
  },
  {
   "cell_type": "code",
   "execution_count": 11,
   "id": "ff08d4c6",
   "metadata": {},
   "outputs": [
    {
     "data": {
      "text/plain": [
       "140162"
      ]
     },
     "execution_count": 11,
     "metadata": {},
     "output_type": "execute_result"
    }
   ],
   "source": [
    "na_cols = [\"passenger_count\", \"RatecodeID\", \"store_and_fwd_flag\",\n",
    "           \"congestion_surcharge\", \"Airport_fee\"]\n",
    "\n",
    "na_filter = \" AND \".join([f\"{c} IS NULL\" for c in na_cols])\n",
    "\n",
    "na_rows = df.filter(na_filter)\n",
    "na_rows.count()"
   ]
  },
  {
   "cell_type": "markdown",
   "id": "f7984cf3",
   "metadata": {},
   "source": [
    "Since there are exactly 140,162 rows with null values, it can be said that\n",
    "the null values in each columns come from the same set of rows."
   ]
  },
  {
   "cell_type": "markdown",
   "id": "8592acd0",
   "metadata": {},
   "source": [
    "### Dropping rows with missing values"
   ]
  },
  {
   "cell_type": "code",
   "execution_count": 12,
   "id": "633ac685",
   "metadata": {},
   "outputs": [],
   "source": [
    "no_na_filter = \" AND \".join([f\"{c} is NOT NULL\" for c in df.columns])\n",
    "df_no_na = df.filter(no_na_filter)"
   ]
  },
  {
   "cell_type": "code",
   "execution_count": 13,
   "id": "c8f27a69",
   "metadata": {},
   "outputs": [
    {
     "data": {
      "text/plain": [
       "2824462"
      ]
     },
     "execution_count": 13,
     "metadata": {},
     "output_type": "execute_result"
    }
   ],
   "source": [
    "df_no_na.count()"
   ]
  },
  {
   "cell_type": "markdown",
   "id": "199fc650",
   "metadata": {},
   "source": [
    "## Data Cleaning\n",
    "From the summary, we can see that there are negative fare amounts and zero distances.\n",
    "These are illogical and could be signs of frauds.\n",
    "\n",
    "For the simplicity of this project, I will assume that these are inaccurate\n",
    "reporting and will treat them as messy data to clean."
   ]
  }
 ],
 "metadata": {
  "kernelspec": {
   "display_name": ".venv",
   "language": "python",
   "name": "python3"
  },
  "language_info": {
   "codemirror_mode": {
    "name": "ipython",
    "version": 3
   },
   "file_extension": ".py",
   "mimetype": "text/x-python",
   "name": "python",
   "nbconvert_exporter": "python",
   "pygments_lexer": "ipython3",
   "version": "3.13.5"
  }
 },
 "nbformat": 4,
 "nbformat_minor": 5
}
